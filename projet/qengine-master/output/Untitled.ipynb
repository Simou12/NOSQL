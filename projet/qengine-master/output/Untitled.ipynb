{
 "cells": [
  {
   "cell_type": "code",
   "execution_count": 33,
   "id": "e0e01bc0",
   "metadata": {},
   "outputs": [],
   "source": [
    "import pandas as pd\n",
    "csv_file_path=\"statscsv.csv\"\n",
    "df= pd.read_csv(csv_file_path)\n",
    "df = pd.read_csv(csv_file_path, sep='\\t')\n",
    "df = pd.read_csv(csv_file_path, na_values='NA')"
   ]
  },
  {
   "cell_type": "code",
   "execution_count": 34,
   "id": "c6ae1ff6",
   "metadata": {},
   "outputs": [
    {
     "data": {
      "text/plain": [
       "0    45633\n",
       "1    44213\n",
       "2    50183\n",
       "3    41571\n",
       "4    45857\n",
       "5    44921\n",
       "Name: Total time(ms), dtype: int64"
      ]
     },
     "execution_count": 34,
     "metadata": {},
     "output_type": "execute_result"
    }
   ],
   "source": [
    "df['Total time(ms)']\n"
   ]
  },
  {
   "cell_type": "code",
   "execution_count": null,
   "id": "5cf3a0f6",
   "metadata": {},
   "outputs": [],
   "source": [
    "Mesures : \n",
    "- Temps total d'execution des requêtes. \n",
    "- equivalence réponses de jena/ nos réponses. \n",
    "- temps total/moyen d'execution de requêtes en fonction du nombre de patterns. \n",
    "- Mémoire ram consomé(total).\n",
    "- Mémoire ram consomé en fonction du nombre de patterns des requêtes.\n",
    "- Nombre de requêtes traité / seconde.\n",
    "- workload evaluation time en fonction du warm."
   ]
  }
 ],
 "metadata": {
  "kernelspec": {
   "display_name": "Python 3 (ipykernel)",
   "language": "python",
   "name": "python3"
  },
  "language_info": {
   "codemirror_mode": {
    "name": "ipython",
    "version": 3
   },
   "file_extension": ".py",
   "mimetype": "text/x-python",
   "name": "python",
   "nbconvert_exporter": "python",
   "pygments_lexer": "ipython3",
   "version": "3.11.3"
  }
 },
 "nbformat": 4,
 "nbformat_minor": 5
}
