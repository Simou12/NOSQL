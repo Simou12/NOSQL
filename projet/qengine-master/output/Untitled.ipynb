{
 "cells": [
  {
   "cell_type": "code",
   "execution_count": 39,
   "id": "e0e01bc0",
   "metadata": {},
   "outputs": [],
   "source": [
    "import pandas as pd\n",
    "csv_file_path=\"statscsv.csv\"\n",
    "df= pd.read_csv(csv_file_path)\n",
    "df = pd.read_csv(csv_file_path, sep='\\t')\n",
    "df = pd.read_csv(csv_file_path, na_values='NA')\n"
   ]
  },
  {
   "cell_type": "code",
   "execution_count": 40,
   "id": "c6ae1ff6",
   "metadata": {},
   "outputs": [
    {
     "data": {
      "text/html": [
       "<div>\n",
       "<style scoped>\n",
       "    .dataframe tbody tr th:only-of-type {\n",
       "        vertical-align: middle;\n",
       "    }\n",
       "\n",
       "    .dataframe tbody tr th {\n",
       "        vertical-align: top;\n",
       "    }\n",
       "\n",
       "    .dataframe thead th {\n",
       "        text-align: right;\n",
       "    }\n",
       "</style>\n",
       "<table border=\"1\" class=\"dataframe\">\n",
       "  <thead>\n",
       "    <tr style=\"text-align: right;\">\n",
       "      <th></th>\n",
       "      <th>Data file name</th>\n",
       "      <th>\"query file name\"</th>\n",
       "      <th>\"RDF triplets number\"</th>\n",
       "      <th>\"query number\"</th>\n",
       "      <th>Data reading time(ms)</th>\n",
       "      <th>Query reading time(ms)</th>\n",
       "      <th>Dictionary construction time(ms)</th>\n",
       "      <th>\"Index number\"</th>\n",
       "      <th>Index creation time</th>\n",
       "      <th>Workload evaluation time (ms)</th>\n",
       "      <th>Total time(ms)</th>\n",
       "      <th>Nb no response request</th>\n",
       "      <th>Nb response</th>\n",
       "      <th>% response equal to Jena</th>\n",
       "      <th>Jena process time(ms)</th>\n",
       "      <th>NB Queries Same Patterns</th>\n",
       "      <th>NB doublons requete</th>\n",
       "      <th>Nb Pattern time</th>\n",
       "    </tr>\n",
       "  </thead>\n",
       "  <tbody>\n",
       "    <tr>\n",
       "      <th>0</th>\n",
       "      <td>part3_data/Copie de data_500K.nt</td>\n",
       "      <td>folder : part3_queries</td>\n",
       "      <td>539289</td>\n",
       "      <td>13000</td>\n",
       "      <td>5097</td>\n",
       "      <td>1696</td>\n",
       "      <td>280</td>\n",
       "      <td>1 - OPS</td>\n",
       "      <td>2112</td>\n",
       "      <td>216</td>\n",
       "      <td>21538</td>\n",
       "      <td>6749</td>\n",
       "      <td>6251</td>\n",
       "      <td>100.0</td>\n",
       "      <td>9092.0</td>\n",
       "      <td>10424</td>\n",
       "      <td>6874</td>\n",
       "      <td>{1-&gt;89 | 2-&gt;73 | 3-&gt;96 | 4-&gt;30}</td>\n",
       "    </tr>\n",
       "  </tbody>\n",
       "</table>\n",
       "</div>"
      ],
      "text/plain": [
       "                     Data file name       \"query file name\"  \\\n",
       "0  part3_data/Copie de data_500K.nt  folder : part3_queries   \n",
       "\n",
       "    \"RDF triplets number\"   \"query number\"  Data reading time(ms)  \\\n",
       "0                  539289            13000                   5097   \n",
       "\n",
       "   Query reading time(ms)   Dictionary construction time(ms)  \"Index number\"  \\\n",
       "0                     1696                               280         1 - OPS   \n",
       "\n",
       "   Index creation time  Workload evaluation time (ms)  Total time(ms)  \\\n",
       "0                 2112                            216           21538   \n",
       "\n",
       "   Nb no response request  Nb response  % response equal to Jena  \\\n",
       "0                    6749         6251                     100.0   \n",
       "\n",
       "   Jena process time(ms)  NB Queries Same Patterns  NB doublons requete  \\\n",
       "0                 9092.0                     10424                 6874   \n",
       "\n",
       "                   Nb Pattern time  \n",
       "0  {1->89 | 2->73 | 3->96 | 4->30}  "
      ]
     },
     "execution_count": 40,
     "metadata": {},
     "output_type": "execute_result"
    }
   ],
   "source": [
    "df\n"
   ]
  },
  {
   "cell_type": "code",
   "execution_count": null,
   "id": "5cf3a0f6",
   "metadata": {},
   "outputs": [],
   "source": [
    "Mesures : \n",
    "- Temps total d'execution des requêtes. \n",
    "- equivalence réponses de jena/ nos réponses. \n",
    "- temps total/moyen d'execution de requêtes en fonction du nombre de patterns. \n",
    "- Mémoire ram consomé(total).\n",
    "- Mémoire ram consomé en fonction du nombre de patterns des requêtes.\n",
    "- Nombre de requêtes traité / seconde.\n",
    "- workload evaluation time en fonction du warm."
   ]
  }
 ],
 "metadata": {
  "kernelspec": {
   "display_name": "Python 3 (ipykernel)",
   "language": "python",
   "name": "python3"
  },
  "language_info": {
   "codemirror_mode": {
    "name": "ipython",
    "version": 3
   },
   "file_extension": ".py",
   "mimetype": "text/x-python",
   "name": "python",
   "nbconvert_exporter": "python",
   "pygments_lexer": "ipython3",
   "version": "3.9.13"
  }
 },
 "nbformat": 4,
 "nbformat_minor": 5
}
