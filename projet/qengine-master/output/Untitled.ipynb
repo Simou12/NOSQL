{
 "cells": [
  {
   "cell_type": "code",
   "execution_count": 25,
   "id": "e0e01bc0",
   "metadata": {},
   "outputs": [],
   "source": [
    "import pandas as pd\n",
    "csv_file_path=\"statscsv.csv\"\n",
    "df= pd.read_csv(csv_file_path)\n",
    "df = pd.read_csv(csv_file_path, sep='\\t')\n",
    "df = pd.read_csv(csv_file_path, na_values='NA')\n"
   ]
  },
  {
   "cell_type": "code",
   "execution_count": 26,
   "id": "c6ae1ff6",
   "metadata": {},
   "outputs": [
    {
     "data": {
      "text/html": [
       "<div>\n",
       "<style scoped>\n",
       "    .dataframe tbody tr th:only-of-type {\n",
       "        vertical-align: middle;\n",
       "    }\n",
       "\n",
       "    .dataframe tbody tr th {\n",
       "        vertical-align: top;\n",
       "    }\n",
       "\n",
       "    .dataframe thead th {\n",
       "        text-align: right;\n",
       "    }\n",
       "</style>\n",
       "<table border=\"1\" class=\"dataframe\">\n",
       "  <thead>\n",
       "    <tr style=\"text-align: right;\">\n",
       "      <th></th>\n",
       "      <th></th>\n",
       "      <th></th>\n",
       "      <th></th>\n",
       "      <th></th>\n",
       "      <th></th>\n",
       "      <th></th>\n",
       "      <th></th>\n",
       "      <th></th>\n",
       "      <th></th>\n",
       "      <th></th>\n",
       "      <th></th>\n",
       "      <th></th>\n",
       "      <th></th>\n",
       "      <th>Data file name, \"query file name\", \"RDF triplets number\", \"query number\",\"Data reading time(ms)\",\"Query reading time(ms)\" ,\"Dictionary construction time(ms)\", \"Index number\",\"Index creation time\",\"Workload evaluation time (ms)\",\"Total time(ms)\",\"Nb no response request\",\"Nb response\",\"% response equal to Jena\",\"Jena process time(ms)\"</th>\n",
       "    </tr>\n",
       "  </thead>\n",
       "  <tbody>\n",
       "    <tr>\n",
       "      <th>part3_data/Copie de data_500K.nt</th>\n",
       "      <th>folder : part3_queries</th>\n",
       "      <th>539289</th>\n",
       "      <th>13000</th>\n",
       "      <th>2250</th>\n",
       "      <th>591</th>\n",
       "      <th>244</th>\n",
       "      <th>1 - OPS</th>\n",
       "      <th>826</th>\n",
       "      <th>121</th>\n",
       "      <th>11054</th>\n",
       "      <th>6749</th>\n",
       "      <th>6251</th>\n",
       "      <th>100.0</th>\n",
       "      <td>5452.0</td>\n",
       "    </tr>\n",
       "    <tr>\n",
       "      <th>part3_data/Copie de data_2M.nt</th>\n",
       "      <th>folder : part3_queries</th>\n",
       "      <th>2141798</th>\n",
       "      <th>13000</th>\n",
       "      <th>13442</th>\n",
       "      <th>851</th>\n",
       "      <th>1442</th>\n",
       "      <th>1 - OPS</th>\n",
       "      <th>6404</th>\n",
       "      <th>378</th>\n",
       "      <th>47870</th>\n",
       "      <th>5562</th>\n",
       "      <th>7438</th>\n",
       "      <th>100.0</th>\n",
       "      <td>20627.0</td>\n",
       "    </tr>\n",
       "  </tbody>\n",
       "</table>\n",
       "</div>"
      ],
      "text/plain": [
       "                                                                                                                             Data file name, \"query file name\", \"RDF triplets number\", \"query number\",\"Data reading time(ms)\",\"Query reading time(ms)\" ,\"Dictionary construction time(ms)\", \"Index number\",\"Index creation time\",\"Workload evaluation time (ms)\",\"Total time(ms)\",\"Nb no response request\",\"Nb response\",\"% response equal to Jena\",\"Jena process time(ms)\"\n",
       "part3_data/Copie de data_500K.nt folder : part3_queries 539289  13000 2250  591 244  1 - OPS 826  121 11054 6749 6251 100.0                                             5452.0                                                                                                                                                                                                                                                                                             \n",
       "part3_data/Copie de data_2M.nt   folder : part3_queries 2141798 13000 13442 851 1442 1 - OPS 6404 378 47870 5562 7438 100.0                                            20627.0                                                                                                                                                                                                                                                                                             "
      ]
     },
     "execution_count": 26,
     "metadata": {},
     "output_type": "execute_result"
    }
   ],
   "source": [
    "df"
   ]
  }
 ],
 "metadata": {
  "kernelspec": {
   "display_name": "Python 3 (ipykernel)",
   "language": "python",
   "name": "python3"
  },
  "language_info": {
   "codemirror_mode": {
    "name": "ipython",
    "version": 3
   },
   "file_extension": ".py",
   "mimetype": "text/x-python",
   "name": "python",
   "nbconvert_exporter": "python",
   "pygments_lexer": "ipython3",
   "version": "3.9.13"
  }
 },
 "nbformat": 4,
 "nbformat_minor": 5
}
